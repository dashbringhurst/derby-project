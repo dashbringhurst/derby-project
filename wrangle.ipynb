{
 "cells": [
  {
   "cell_type": "code",
   "execution_count": 1,
   "id": "e9afff6d",
   "metadata": {},
   "outputs": [],
   "source": [
    "import pandas as pd\n",
    "import numpy as np\n",
    "\n",
    "import matplotlib.pyplot as plt\n",
    "import seaborn as sns"
   ]
  },
  {
   "cell_type": "code",
   "execution_count": 2,
   "id": "4fe8e119",
   "metadata": {},
   "outputs": [],
   "source": [
    "df = pd.read_csv('nyra_2019_complete.csv', low_memory=False, header=None)"
   ]
  },
  {
   "cell_type": "code",
   "execution_count": 4,
   "id": "f2a0c8ef",
   "metadata": {},
   "outputs": [
    {
     "data": {
      "text/html": [
       "<div>\n",
       "<style scoped>\n",
       "    .dataframe tbody tr th:only-of-type {\n",
       "        vertical-align: middle;\n",
       "    }\n",
       "\n",
       "    .dataframe tbody tr th {\n",
       "        vertical-align: top;\n",
       "    }\n",
       "\n",
       "    .dataframe thead th {\n",
       "        text-align: right;\n",
       "    }\n",
       "</style>\n",
       "<table border=\"1\" class=\"dataframe\">\n",
       "  <thead>\n",
       "    <tr style=\"text-align: right;\">\n",
       "      <th></th>\n",
       "      <th>0</th>\n",
       "      <th>1</th>\n",
       "      <th>2</th>\n",
       "      <th>3</th>\n",
       "      <th>4</th>\n",
       "      <th>5</th>\n",
       "      <th>6</th>\n",
       "      <th>7</th>\n",
       "      <th>8</th>\n",
       "      <th>9</th>\n",
       "      <th>10</th>\n",
       "      <th>11</th>\n",
       "      <th>12</th>\n",
       "      <th>13</th>\n",
       "      <th>14</th>\n",
       "      <th>15</th>\n",
       "      <th>16</th>\n",
       "      <th>17</th>\n",
       "    </tr>\n",
       "  </thead>\n",
       "  <tbody>\n",
       "    <tr>\n",
       "      <th>0</th>\n",
       "      <td>AQU</td>\n",
       "      <td>2019-01-01</td>\n",
       "      <td>9</td>\n",
       "      <td>6</td>\n",
       "      <td>72</td>\n",
       "      <td>40.672902</td>\n",
       "      <td>-73.827607</td>\n",
       "      <td>600</td>\n",
       "      <td>D</td>\n",
       "      <td>GD</td>\n",
       "      <td>48</td>\n",
       "      <td>CLM</td>\n",
       "      <td>25000.0</td>\n",
       "      <td>420</td>\n",
       "      <td>120</td>\n",
       "      <td>Andre Shivnarine Worrie</td>\n",
       "      <td>2090</td>\n",
       "      <td>8</td>\n",
       "    </tr>\n",
       "    <tr>\n",
       "      <th>1</th>\n",
       "      <td>AQU</td>\n",
       "      <td>2019-01-01</td>\n",
       "      <td>9</td>\n",
       "      <td>6</td>\n",
       "      <td>73</td>\n",
       "      <td>40.672946</td>\n",
       "      <td>-73.827587</td>\n",
       "      <td>600</td>\n",
       "      <td>D</td>\n",
       "      <td>GD</td>\n",
       "      <td>48</td>\n",
       "      <td>CLM</td>\n",
       "      <td>25000.0</td>\n",
       "      <td>420</td>\n",
       "      <td>120</td>\n",
       "      <td>Andre Shivnarine Worrie</td>\n",
       "      <td>2090</td>\n",
       "      <td>8</td>\n",
       "    </tr>\n",
       "    <tr>\n",
       "      <th>2</th>\n",
       "      <td>AQU</td>\n",
       "      <td>2019-01-01</td>\n",
       "      <td>9</td>\n",
       "      <td>6</td>\n",
       "      <td>74</td>\n",
       "      <td>40.672990</td>\n",
       "      <td>-73.827568</td>\n",
       "      <td>600</td>\n",
       "      <td>D</td>\n",
       "      <td>GD</td>\n",
       "      <td>48</td>\n",
       "      <td>CLM</td>\n",
       "      <td>25000.0</td>\n",
       "      <td>420</td>\n",
       "      <td>120</td>\n",
       "      <td>Andre Shivnarine Worrie</td>\n",
       "      <td>2090</td>\n",
       "      <td>8</td>\n",
       "    </tr>\n",
       "    <tr>\n",
       "      <th>3</th>\n",
       "      <td>AQU</td>\n",
       "      <td>2019-01-01</td>\n",
       "      <td>9</td>\n",
       "      <td>6</td>\n",
       "      <td>63</td>\n",
       "      <td>40.672510</td>\n",
       "      <td>-73.827781</td>\n",
       "      <td>600</td>\n",
       "      <td>D</td>\n",
       "      <td>GD</td>\n",
       "      <td>48</td>\n",
       "      <td>CLM</td>\n",
       "      <td>25000.0</td>\n",
       "      <td>420</td>\n",
       "      <td>120</td>\n",
       "      <td>Andre Shivnarine Worrie</td>\n",
       "      <td>2090</td>\n",
       "      <td>8</td>\n",
       "    </tr>\n",
       "    <tr>\n",
       "      <th>4</th>\n",
       "      <td>AQU</td>\n",
       "      <td>2019-01-01</td>\n",
       "      <td>9</td>\n",
       "      <td>6</td>\n",
       "      <td>64</td>\n",
       "      <td>40.672553</td>\n",
       "      <td>-73.827762</td>\n",
       "      <td>600</td>\n",
       "      <td>D</td>\n",
       "      <td>GD</td>\n",
       "      <td>48</td>\n",
       "      <td>CLM</td>\n",
       "      <td>25000.0</td>\n",
       "      <td>420</td>\n",
       "      <td>120</td>\n",
       "      <td>Andre Shivnarine Worrie</td>\n",
       "      <td>2090</td>\n",
       "      <td>8</td>\n",
       "    </tr>\n",
       "  </tbody>\n",
       "</table>\n",
       "</div>"
      ],
      "text/plain": [
       "    0           1   2    3   4          5          6    7  8    9   10   11  \\\n",
       "0  AQU  2019-01-01   9  6    72  40.672902 -73.827607  600  D  GD   48  CLM   \n",
       "1  AQU  2019-01-01   9  6    73  40.672946 -73.827587  600  D  GD   48  CLM   \n",
       "2  AQU  2019-01-01   9  6    74  40.672990 -73.827568  600  D  GD   48  CLM   \n",
       "3  AQU  2019-01-01   9  6    63  40.672510 -73.827781  600  D  GD   48  CLM   \n",
       "4  AQU  2019-01-01   9  6    64  40.672553 -73.827762  600  D  GD   48  CLM   \n",
       "\n",
       "        12   13   14                       15    16  17  \n",
       "0  25000.0  420  120  Andre Shivnarine Worrie  2090   8  \n",
       "1  25000.0  420  120  Andre Shivnarine Worrie  2090   8  \n",
       "2  25000.0  420  120  Andre Shivnarine Worrie  2090   8  \n",
       "3  25000.0  420  120  Andre Shivnarine Worrie  2090   8  \n",
       "4  25000.0  420  120  Andre Shivnarine Worrie  2090   8  "
      ]
     },
     "execution_count": 4,
     "metadata": {},
     "output_type": "execute_result"
    }
   ],
   "source": [
    "df.head()"
   ]
  },
  {
   "cell_type": "code",
   "execution_count": 5,
   "id": "68921728",
   "metadata": {},
   "outputs": [
    {
     "name": "stdout",
     "output_type": "stream",
     "text": [
      "<class 'pandas.core.frame.DataFrame'>\n",
      "RangeIndex: 5228430 entries, 0 to 5228429\n",
      "Data columns (total 18 columns):\n",
      " #   Column  Dtype  \n",
      "---  ------  -----  \n",
      " 0   0       object \n",
      " 1   1       object \n",
      " 2   2       int64  \n",
      " 3   3       object \n",
      " 4   4       int64  \n",
      " 5   5       float64\n",
      " 6   6       float64\n",
      " 7   7       int64  \n",
      " 8   8       object \n",
      " 9   9       object \n",
      " 10  10      int64  \n",
      " 11  11      object \n",
      " 12  12      float64\n",
      " 13  13      int64  \n",
      " 14  14      int64  \n",
      " 15  15      object \n",
      " 16  16      int64  \n",
      " 17  17      int64  \n",
      "dtypes: float64(3), int64(8), object(7)\n",
      "memory usage: 718.0+ MB\n"
     ]
    }
   ],
   "source": [
    "df.info()"
   ]
  },
  {
   "cell_type": "code",
   "execution_count": 6,
   "id": "a2fd7842",
   "metadata": {},
   "outputs": [],
   "source": [
    "# rename columns according to data dictionary from Big Data Derby 2022 Kaggle competition\n",
    "df = df.rename(columns={0:'track_id', 1:'race_date', 2:'race_number', 3:'program_number',\n",
    "                  4:'trakus_index', 5:'latitude', 6:'longitude', 7:'distance_id', 8:'course_type', \n",
    "                    9:'track_condition', 10:'run_up_distance', 11:'race_type', 12:'purse', \n",
    "                    13:'post_time', 14:'wt_carried', 15:'jockey', 16:'odds', 17:'position_finish'})"
   ]
  },
  {
   "cell_type": "code",
   "execution_count": 7,
   "id": "44a2057b",
   "metadata": {},
   "outputs": [
    {
     "data": {
      "text/html": [
       "<div>\n",
       "<style scoped>\n",
       "    .dataframe tbody tr th:only-of-type {\n",
       "        vertical-align: middle;\n",
       "    }\n",
       "\n",
       "    .dataframe tbody tr th {\n",
       "        vertical-align: top;\n",
       "    }\n",
       "\n",
       "    .dataframe thead th {\n",
       "        text-align: right;\n",
       "    }\n",
       "</style>\n",
       "<table border=\"1\" class=\"dataframe\">\n",
       "  <thead>\n",
       "    <tr style=\"text-align: right;\">\n",
       "      <th></th>\n",
       "      <th>track_id</th>\n",
       "      <th>race_date</th>\n",
       "      <th>race_number</th>\n",
       "      <th>program_number</th>\n",
       "      <th>trakus_index</th>\n",
       "      <th>latitude</th>\n",
       "      <th>longitude</th>\n",
       "      <th>distance_id</th>\n",
       "      <th>course_type</th>\n",
       "      <th>track_condition</th>\n",
       "      <th>run_up_distance</th>\n",
       "      <th>race_type</th>\n",
       "      <th>purse</th>\n",
       "      <th>post_time</th>\n",
       "      <th>wt_carried</th>\n",
       "      <th>jockey</th>\n",
       "      <th>odds</th>\n",
       "      <th>position_finish</th>\n",
       "    </tr>\n",
       "  </thead>\n",
       "  <tbody>\n",
       "    <tr>\n",
       "      <th>0</th>\n",
       "      <td>AQU</td>\n",
       "      <td>2019-01-01</td>\n",
       "      <td>9</td>\n",
       "      <td>6</td>\n",
       "      <td>72</td>\n",
       "      <td>40.672902</td>\n",
       "      <td>-73.827607</td>\n",
       "      <td>600</td>\n",
       "      <td>D</td>\n",
       "      <td>GD</td>\n",
       "      <td>48</td>\n",
       "      <td>CLM</td>\n",
       "      <td>25000.0</td>\n",
       "      <td>420</td>\n",
       "      <td>120</td>\n",
       "      <td>Andre Shivnarine Worrie</td>\n",
       "      <td>2090</td>\n",
       "      <td>8</td>\n",
       "    </tr>\n",
       "    <tr>\n",
       "      <th>1</th>\n",
       "      <td>AQU</td>\n",
       "      <td>2019-01-01</td>\n",
       "      <td>9</td>\n",
       "      <td>6</td>\n",
       "      <td>73</td>\n",
       "      <td>40.672946</td>\n",
       "      <td>-73.827587</td>\n",
       "      <td>600</td>\n",
       "      <td>D</td>\n",
       "      <td>GD</td>\n",
       "      <td>48</td>\n",
       "      <td>CLM</td>\n",
       "      <td>25000.0</td>\n",
       "      <td>420</td>\n",
       "      <td>120</td>\n",
       "      <td>Andre Shivnarine Worrie</td>\n",
       "      <td>2090</td>\n",
       "      <td>8</td>\n",
       "    </tr>\n",
       "    <tr>\n",
       "      <th>2</th>\n",
       "      <td>AQU</td>\n",
       "      <td>2019-01-01</td>\n",
       "      <td>9</td>\n",
       "      <td>6</td>\n",
       "      <td>74</td>\n",
       "      <td>40.672990</td>\n",
       "      <td>-73.827568</td>\n",
       "      <td>600</td>\n",
       "      <td>D</td>\n",
       "      <td>GD</td>\n",
       "      <td>48</td>\n",
       "      <td>CLM</td>\n",
       "      <td>25000.0</td>\n",
       "      <td>420</td>\n",
       "      <td>120</td>\n",
       "      <td>Andre Shivnarine Worrie</td>\n",
       "      <td>2090</td>\n",
       "      <td>8</td>\n",
       "    </tr>\n",
       "    <tr>\n",
       "      <th>3</th>\n",
       "      <td>AQU</td>\n",
       "      <td>2019-01-01</td>\n",
       "      <td>9</td>\n",
       "      <td>6</td>\n",
       "      <td>63</td>\n",
       "      <td>40.672510</td>\n",
       "      <td>-73.827781</td>\n",
       "      <td>600</td>\n",
       "      <td>D</td>\n",
       "      <td>GD</td>\n",
       "      <td>48</td>\n",
       "      <td>CLM</td>\n",
       "      <td>25000.0</td>\n",
       "      <td>420</td>\n",
       "      <td>120</td>\n",
       "      <td>Andre Shivnarine Worrie</td>\n",
       "      <td>2090</td>\n",
       "      <td>8</td>\n",
       "    </tr>\n",
       "    <tr>\n",
       "      <th>4</th>\n",
       "      <td>AQU</td>\n",
       "      <td>2019-01-01</td>\n",
       "      <td>9</td>\n",
       "      <td>6</td>\n",
       "      <td>64</td>\n",
       "      <td>40.672553</td>\n",
       "      <td>-73.827762</td>\n",
       "      <td>600</td>\n",
       "      <td>D</td>\n",
       "      <td>GD</td>\n",
       "      <td>48</td>\n",
       "      <td>CLM</td>\n",
       "      <td>25000.0</td>\n",
       "      <td>420</td>\n",
       "      <td>120</td>\n",
       "      <td>Andre Shivnarine Worrie</td>\n",
       "      <td>2090</td>\n",
       "      <td>8</td>\n",
       "    </tr>\n",
       "  </tbody>\n",
       "</table>\n",
       "</div>"
      ],
      "text/plain": [
       "  track_id   race_date  race_number program_number  trakus_index   latitude  \\\n",
       "0      AQU  2019-01-01            9            6              72  40.672902   \n",
       "1      AQU  2019-01-01            9            6              73  40.672946   \n",
       "2      AQU  2019-01-01            9            6              74  40.672990   \n",
       "3      AQU  2019-01-01            9            6              63  40.672510   \n",
       "4      AQU  2019-01-01            9            6              64  40.672553   \n",
       "\n",
       "   longitude  distance_id course_type track_condition  run_up_distance  \\\n",
       "0 -73.827607          600           D             GD                48   \n",
       "1 -73.827587          600           D             GD                48   \n",
       "2 -73.827568          600           D             GD                48   \n",
       "3 -73.827781          600           D             GD                48   \n",
       "4 -73.827762          600           D             GD                48   \n",
       "\n",
       "  race_type    purse  post_time  wt_carried                   jockey  odds  \\\n",
       "0       CLM  25000.0        420         120  Andre Shivnarine Worrie  2090   \n",
       "1       CLM  25000.0        420         120  Andre Shivnarine Worrie  2090   \n",
       "2       CLM  25000.0        420         120  Andre Shivnarine Worrie  2090   \n",
       "3       CLM  25000.0        420         120  Andre Shivnarine Worrie  2090   \n",
       "4       CLM  25000.0        420         120  Andre Shivnarine Worrie  2090   \n",
       "\n",
       "   position_finish  \n",
       "0                8  \n",
       "1                8  \n",
       "2                8  \n",
       "3                8  \n",
       "4                8  "
      ]
     },
     "execution_count": 7,
     "metadata": {},
     "output_type": "execute_result"
    }
   ],
   "source": [
    "df.head()"
   ]
  },
  {
   "cell_type": "code",
   "execution_count": 8,
   "id": "cb32a23c",
   "metadata": {},
   "outputs": [
    {
     "data": {
      "text/plain": [
       "False    5228430\n",
       "dtype: int64"
      ]
     },
     "execution_count": 8,
     "metadata": {},
     "output_type": "execute_result"
    }
   ],
   "source": [
    "# check for duplicates\n",
    "df.duplicated().value_counts()"
   ]
  },
  {
   "cell_type": "markdown",
   "id": "7e02102c",
   "metadata": {},
   "source": [
    "### The dataframe does not contain any duplicates."
   ]
  },
  {
   "cell_type": "code",
   "execution_count": 9,
   "id": "c2345bca",
   "metadata": {},
   "outputs": [
    {
     "name": "stdout",
     "output_type": "stream",
     "text": [
      "<class 'pandas.core.frame.DataFrame'>\n",
      "RangeIndex: 5228430 entries, 0 to 5228429\n",
      "Data columns (total 18 columns):\n",
      " #   Column           Non-Null Count    Dtype  \n",
      "---  ------           --------------    -----  \n",
      " 0   track_id         5228430 non-null  object \n",
      " 1   race_date        5228430 non-null  object \n",
      " 2   race_number      5228430 non-null  int64  \n",
      " 3   program_number   5228430 non-null  object \n",
      " 4   trakus_index     5228430 non-null  int64  \n",
      " 5   latitude         5228430 non-null  float64\n",
      " 6   longitude        5228430 non-null  float64\n",
      " 7   distance_id      5228430 non-null  int64  \n",
      " 8   course_type      5228430 non-null  object \n",
      " 9   track_condition  5228430 non-null  object \n",
      " 10  run_up_distance  5228430 non-null  int64  \n",
      " 11  race_type        5228430 non-null  object \n",
      " 12  purse            5228430 non-null  float64\n",
      " 13  post_time        5228430 non-null  int64  \n",
      " 14  wt_carried       5228430 non-null  int64  \n",
      " 15  jockey           5228430 non-null  object \n",
      " 16  odds             5228430 non-null  int64  \n",
      " 17  position_finish  5228430 non-null  int64  \n",
      "dtypes: float64(3), int64(8), object(7)\n",
      "memory usage: 718.0+ MB\n"
     ]
    }
   ],
   "source": [
    "df.info(show_counts=True)"
   ]
  },
  {
   "cell_type": "markdown",
   "id": "bae2f033",
   "metadata": {},
   "source": [
    "### The dataframe does not contain any nulls."
   ]
  },
  {
   "cell_type": "code",
   "execution_count": 10,
   "id": "c8bf387b",
   "metadata": {},
   "outputs": [
    {
     "data": {
      "text/plain": [
       "AQU    2158369\n",
       "BEL    1947134\n",
       "SAR    1122927\n",
       "Name: track_id, dtype: int64"
      ]
     },
     "execution_count": 10,
     "metadata": {},
     "output_type": "execute_result"
    }
   ],
   "source": [
    "df.track_id.value_counts()"
   ]
  },
  {
   "cell_type": "code",
   "execution_count": 11,
   "id": "fc6a7443",
   "metadata": {},
   "outputs": [
    {
     "data": {
      "text/plain": [
       "2019-08-24    43925\n",
       "2019-06-08    41954\n",
       "2019-07-21    39451\n",
       "2019-07-06    37481\n",
       "2019-07-27    37302\n",
       "              ...  \n",
       "2019-02-24    14920\n",
       "2019-05-03    12438\n",
       "2019-12-01    11530\n",
       "2019-01-10    10819\n",
       "2019-10-27     3344\n",
       "Name: race_date, Length: 217, dtype: int64"
      ]
     },
     "execution_count": 11,
     "metadata": {},
     "output_type": "execute_result"
    }
   ],
   "source": [
    "df.race_date.value_counts()"
   ]
  },
  {
   "cell_type": "code",
   "execution_count": 12,
   "id": "3b351f85",
   "metadata": {},
   "outputs": [
    {
     "data": {
      "text/plain": [
       "8     582413\n",
       "6     575217\n",
       "5     559884\n",
       "7     554623\n",
       "4     523846\n",
       "2     515115\n",
       "1     508808\n",
       "9     492915\n",
       "3     490256\n",
       "10    283141\n",
       "11     98804\n",
       "12     31725\n",
       "13     11683\n",
       "Name: race_number, dtype: int64"
      ]
     },
     "execution_count": 12,
     "metadata": {},
     "output_type": "execute_result"
    }
   ],
   "source": [
    "df.race_number.value_counts()"
   ]
  },
  {
   "cell_type": "code",
   "execution_count": 13,
   "id": "b096ff1f",
   "metadata": {},
   "outputs": [
    {
     "data": {
      "text/plain": [
       "4      611396\n",
       "3      611025\n",
       "5      606666\n",
       "2      602597\n",
       "1      599979\n",
       "6      579893\n",
       "7      486905\n",
       "8      373202\n",
       "9      266526\n",
       "10     186835\n",
       "11     117532\n",
       "12      71363\n",
       "1A      56753\n",
       "13      26507\n",
       "14      15081\n",
       "15       7917\n",
       "2B       4081\n",
       "16       3591\n",
       "3X        334\n",
       "1X        247\n",
       "Name: program_number, dtype: int64"
      ]
     },
     "execution_count": 13,
     "metadata": {},
     "output_type": "execute_result"
    }
   ],
   "source": [
    "df.program_number.value_counts()"
   ]
  },
  {
   "cell_type": "code",
   "execution_count": 14,
   "id": "5f5d7a07",
   "metadata": {},
   "outputs": [
    {
     "data": {
      "text/plain": [
       "1       14915\n",
       "2       14915\n",
       "3       14915\n",
       "4       14915\n",
       "8       14914\n",
       "        ...  \n",
       "1058        9\n",
       "1057        9\n",
       "1056        9\n",
       "1062        9\n",
       "1037        9\n",
       "Name: trakus_index, Length: 1062, dtype: int64"
      ]
     },
     "execution_count": 14,
     "metadata": {},
     "output_type": "execute_result"
    }
   ],
   "source": [
    "df.trakus_index.value_counts()"
   ]
  },
  {
   "cell_type": "code",
   "execution_count": 15,
   "id": "5f0eacf5",
   "metadata": {},
   "outputs": [
    {
     "data": {
      "text/plain": [
       "43.071792    98\n",
       "40.666721    46\n",
       "43.068657    31\n",
       "43.068697    31\n",
       "43.068705    31\n",
       "             ..\n",
       "40.716898     1\n",
       "40.716930     1\n",
       "40.716962     1\n",
       "40.716991     1\n",
       "40.672200     1\n",
       "Name: latitude, Length: 5224784, dtype: int64"
      ]
     },
     "execution_count": 15,
     "metadata": {},
     "output_type": "execute_result"
    }
   ],
   "source": [
    "df.latitude.value_counts()"
   ]
  },
  {
   "cell_type": "code",
   "execution_count": 16,
   "id": "eba01ee9",
   "metadata": {},
   "outputs": [
    {
     "data": {
      "text/plain": [
       "-73.764658    98\n",
       "-73.830215    46\n",
       "-73.771958    31\n",
       "-73.771969    31\n",
       "-73.771946    31\n",
       "              ..\n",
       "-73.726852     1\n",
       "-73.726803     1\n",
       "-73.727243     1\n",
       "-73.727213     1\n",
       "-73.830932     1\n",
       "Name: longitude, Length: 5224799, dtype: int64"
      ]
     },
     "execution_count": 16,
     "metadata": {},
     "output_type": "execute_result"
    }
   ],
   "source": [
    "df.longitude.value_counts()"
   ]
  },
  {
   "cell_type": "markdown",
   "id": "649d13f1",
   "metadata": {},
   "source": [
    "- Latitude and longitude have a lot of different value counts but the coordinates are very close in some cases. Maybe I can figure out where these are located generally in order to bin them in the future."
   ]
  },
  {
   "cell_type": "code",
   "execution_count": 17,
   "id": "58d4d923",
   "metadata": {},
   "outputs": [
    {
     "data": {
      "text/plain": [
       "600     1194752\n",
       "800     1137856\n",
       "850      776832\n",
       "700      595436\n",
       "650      466190\n",
       "900      416372\n",
       "550      280966\n",
       "1000      87941\n",
       "1100      83223\n",
       "1200      45213\n",
       "950       35814\n",
       "1650      33963\n",
       "500       25270\n",
       "1900      15315\n",
       "2000       9558\n",
       "1800       6713\n",
       "1600       5904\n",
       "1400       4655\n",
       "1050       3661\n",
       "450        2796\n",
       "Name: distance_id, dtype: int64"
      ]
     },
     "execution_count": 17,
     "metadata": {},
     "output_type": "execute_result"
    }
   ],
   "source": [
    "df.distance_id.value_counts()"
   ]
  },
  {
   "cell_type": "code",
   "execution_count": 18,
   "id": "ace77098",
   "metadata": {},
   "outputs": [
    {
     "data": {
      "text/plain": [
       "D    3229234\n",
       "T     988274\n",
       "I     752310\n",
       "O     193063\n",
       "M      65549\n",
       "Name: course_type, dtype: int64"
      ]
     },
     "execution_count": 18,
     "metadata": {},
     "output_type": "execute_result"
    }
   ],
   "source": [
    "df.course_type.value_counts()"
   ]
  },
  {
   "cell_type": "code",
   "execution_count": 19,
   "id": "8c852566",
   "metadata": {},
   "outputs": [
    {
     "data": {
      "text/plain": [
       "FT     2345748\n",
       "FM     1391865\n",
       "GD      733124\n",
       "SY      486795\n",
       "MY      172943\n",
       "YL       89250\n",
       "SF        8705\n",
       "Name: track_condition, dtype: int64"
      ]
     },
     "execution_count": 19,
     "metadata": {},
     "output_type": "execute_result"
    }
   ],
   "source": [
    "df.track_condition.value_counts()"
   ]
  },
  {
   "cell_type": "markdown",
   "id": "a7571145",
   "metadata": {},
   "source": [
    "- Looks like the one I added is not the same as the other \"GD\" entries. Stripping the string values might fix that."
   ]
  },
  {
   "cell_type": "code",
   "execution_count": 20,
   "id": "b95cb5de",
   "metadata": {},
   "outputs": [],
   "source": [
    "df.track_condition = df.track_condition.str.strip()"
   ]
  },
  {
   "cell_type": "code",
   "execution_count": 21,
   "id": "a9800c88",
   "metadata": {},
   "outputs": [
    {
     "data": {
      "text/plain": [
       "FT    2345748\n",
       "FM    1391865\n",
       "GD     733124\n",
       "SY     486795\n",
       "MY     172943\n",
       "YL      89250\n",
       "SF       8705\n",
       "Name: track_condition, dtype: int64"
      ]
     },
     "execution_count": 21,
     "metadata": {},
     "output_type": "execute_result"
    }
   ],
   "source": [
    "df.track_condition.value_counts()"
   ]
  },
  {
   "cell_type": "code",
   "execution_count": 22,
   "id": "b6423275",
   "metadata": {},
   "outputs": [
    {
     "data": {
      "text/plain": [
       "54     798776\n",
       "45     396175\n",
       "48     345963\n",
       "52     235485\n",
       "44     197209\n",
       "        ...  \n",
       "118      1962\n",
       "49       1904\n",
       "180      1698\n",
       "67       1355\n",
       "161       996\n",
       "Name: run_up_distance, Length: 127, dtype: int64"
      ]
     },
     "execution_count": 22,
     "metadata": {},
     "output_type": "execute_result"
    }
   ],
   "source": [
    "df.run_up_distance.value_counts()"
   ]
  },
  {
   "cell_type": "code",
   "execution_count": 23,
   "id": "3a968224",
   "metadata": {},
   "outputs": [
    {
     "data": {
      "text/plain": [
       "CLM    1142801\n",
       "MSW    1089307\n",
       "MCL     920650\n",
       "STK     730102\n",
       "AOC     541117\n",
       "ALW     522748\n",
       "STR     186744\n",
       "SOC      36069\n",
       "SST      27560\n",
       "WCL      22386\n",
       "SHP       4686\n",
       "WMC       4260\n",
       "Name: race_type, dtype: int64"
      ]
     },
     "execution_count": 23,
     "metadata": {},
     "output_type": "execute_result"
    }
   ],
   "source": [
    "df.race_type.value_counts()"
   ]
  },
  {
   "cell_type": "code",
   "execution_count": 24,
   "id": "42a3f0f3",
   "metadata": {},
   "outputs": [
    {
     "data": {
      "text/plain": [
       "41000.0      353152\n",
       "62000.0      281264\n",
       "70000.0      279714\n",
       "75000.0      250906\n",
       "90000.0      242703\n",
       "              ...  \n",
       "101200.0       3664\n",
       "1200000.0      3258\n",
       "97000.0        3258\n",
       "74000.0        3104\n",
       "56000.0        3101\n",
       "Name: purse, Length: 70, dtype: int64"
      ]
     },
     "execution_count": 24,
     "metadata": {},
     "output_type": "execute_result"
    }
   ],
   "source": [
    "df.purse.value_counts()"
   ]
  },
  {
   "cell_type": "code",
   "execution_count": 25,
   "id": "c1d9d245",
   "metadata": {},
   "outputs": [
    {
     "data": {
      "text/plain": [
       "130     94327\n",
       "1250    94087\n",
       "223     61610\n",
       "551     56106\n",
       "445     53938\n",
       "        ...  \n",
       "109      1698\n",
       "1152     1640\n",
       "618      1602\n",
       "1227     1495\n",
       "217      1440\n",
       "Name: post_time, Length: 360, dtype: int64"
      ]
     },
     "execution_count": 25,
     "metadata": {},
     "output_type": "execute_result"
    }
   ],
   "source": [
    "df.post_time.value_counts()"
   ]
  },
  {
   "cell_type": "code",
   "execution_count": 26,
   "id": "05225655",
   "metadata": {},
   "outputs": [
    {
     "data": {
      "text/plain": [
       "118    805184\n",
       "120    768432\n",
       "119    747592\n",
       "122    628713\n",
       "124    510510\n",
       "121    457490\n",
       "123    384078\n",
       "125    204079\n",
       "126    133556\n",
       "117    126486\n",
       "116    115239\n",
       "115     88757\n",
       "114     82722\n",
       "113     61619\n",
       "111     25915\n",
       "112     18884\n",
       "156      9624\n",
       "144      9347\n",
       "153      8026\n",
       "142      6828\n",
       "152      6472\n",
       "146      5528\n",
       "150      4539\n",
       "147      4214\n",
       "148      3593\n",
       "127      2296\n",
       "149      1918\n",
       "154      1864\n",
       "158      1062\n",
       "160      1062\n",
       "143       829\n",
       "128       714\n",
       "155       643\n",
       "110       328\n",
       "132       287\n",
       "Name: wt_carried, dtype: int64"
      ]
     },
     "execution_count": 26,
     "metadata": {},
     "output_type": "execute_result"
    }
   ],
   "source": [
    "df.wt_carried.value_counts()"
   ]
  },
  {
   "cell_type": "code",
   "execution_count": 27,
   "id": "b89e4f5a",
   "metadata": {},
   "outputs": [
    {
     "data": {
      "text/plain": [
       "Manuel Franco        444024\n",
       "Dylan Davis          381018\n",
       "Jose Lezcano         344802\n",
       "Junior Alvarado      299324\n",
       "Irad Ortiz Jr.       282044\n",
       "                      ...  \n",
       "Jose Angel Garcia       280\n",
       "Jose F. Rojas           269\n",
       "Luca Panici             258\n",
       "Kevin Gomez             256\n",
       "Arienne Cox             253\n",
       "Name: jockey, Length: 178, dtype: int64"
      ]
     },
     "execution_count": 27,
     "metadata": {},
     "output_type": "execute_result"
    }
   ],
   "source": [
    "df.jockey.value_counts()"
   ]
  },
  {
   "cell_type": "code",
   "execution_count": 28,
   "id": "7046a444",
   "metadata": {},
   "outputs": [
    {
     "data": {
      "text/plain": [
       "420      45315\n",
       "430      43158\n",
       "460      42417\n",
       "410      40648\n",
       "440      38635\n",
       "         ...  \n",
       "13400      282\n",
       "10525      282\n",
       "14850      275\n",
       "10675      253\n",
       "12025       65\n",
       "Name: odds, Length: 656, dtype: int64"
      ]
     },
     "execution_count": 28,
     "metadata": {},
     "output_type": "execute_result"
    }
   ],
   "source": [
    "df.odds.value_counts()"
   ]
  },
  {
   "cell_type": "code",
   "execution_count": 29,
   "id": "825a9fed",
   "metadata": {},
   "outputs": [
    {
     "data": {
      "text/plain": [
       "2     703763\n",
       "1     703363\n",
       "3     702027\n",
       "4     698986\n",
       "5     681987\n",
       "6     593032\n",
       "7     440674\n",
       "8     304760\n",
       "9     200008\n",
       "10    109314\n",
       "11     56078\n",
       "12     31447\n",
       "13      2280\n",
       "14       711\n",
       "Name: position_finish, dtype: int64"
      ]
     },
     "execution_count": 29,
     "metadata": {},
     "output_type": "execute_result"
    }
   ],
   "source": [
    "df.position_finish.value_counts()"
   ]
  },
  {
   "cell_type": "code",
   "execution_count": 30,
   "id": "8fb6bd2e",
   "metadata": {},
   "outputs": [
    {
     "name": "stdout",
     "output_type": "stream",
     "text": [
      "<class 'pandas.core.frame.DataFrame'>\n",
      "RangeIndex: 5228430 entries, 0 to 5228429\n",
      "Data columns (total 18 columns):\n",
      " #   Column           Dtype  \n",
      "---  ------           -----  \n",
      " 0   track_id         object \n",
      " 1   race_date        object \n",
      " 2   race_number      int64  \n",
      " 3   program_number   object \n",
      " 4   trakus_index     int64  \n",
      " 5   latitude         float64\n",
      " 6   longitude        float64\n",
      " 7   distance_id      int64  \n",
      " 8   course_type      object \n",
      " 9   track_condition  object \n",
      " 10  run_up_distance  int64  \n",
      " 11  race_type        object \n",
      " 12  purse            float64\n",
      " 13  post_time        int64  \n",
      " 14  wt_carried       int64  \n",
      " 15  jockey           object \n",
      " 16  odds             int64  \n",
      " 17  position_finish  int64  \n",
      "dtypes: float64(3), int64(8), object(7)\n",
      "memory usage: 718.0+ MB\n"
     ]
    }
   ],
   "source": [
    "df.info()"
   ]
  },
  {
   "cell_type": "code",
   "execution_count": 31,
   "id": "b4381c80",
   "metadata": {},
   "outputs": [
    {
     "data": {
      "text/html": [
       "<div>\n",
       "<style scoped>\n",
       "    .dataframe tbody tr th:only-of-type {\n",
       "        vertical-align: middle;\n",
       "    }\n",
       "\n",
       "    .dataframe tbody tr th {\n",
       "        vertical-align: top;\n",
       "    }\n",
       "\n",
       "    .dataframe thead th {\n",
       "        text-align: right;\n",
       "    }\n",
       "</style>\n",
       "<table border=\"1\" class=\"dataframe\">\n",
       "  <thead>\n",
       "    <tr style=\"text-align: right;\">\n",
       "      <th></th>\n",
       "      <th>track_id</th>\n",
       "      <th>race_date</th>\n",
       "      <th>race_number</th>\n",
       "      <th>program_number</th>\n",
       "      <th>trakus_index</th>\n",
       "      <th>latitude</th>\n",
       "      <th>longitude</th>\n",
       "      <th>distance_id</th>\n",
       "      <th>course_type</th>\n",
       "      <th>track_condition</th>\n",
       "      <th>run_up_distance</th>\n",
       "      <th>race_type</th>\n",
       "      <th>purse</th>\n",
       "      <th>post_time</th>\n",
       "      <th>wt_carried</th>\n",
       "      <th>jockey</th>\n",
       "      <th>odds</th>\n",
       "      <th>position_finish</th>\n",
       "    </tr>\n",
       "  </thead>\n",
       "  <tbody>\n",
       "    <tr>\n",
       "      <th>0</th>\n",
       "      <td>AQU</td>\n",
       "      <td>2019-01-01</td>\n",
       "      <td>9</td>\n",
       "      <td>6</td>\n",
       "      <td>72</td>\n",
       "      <td>40.672902</td>\n",
       "      <td>-73.827607</td>\n",
       "      <td>600</td>\n",
       "      <td>D</td>\n",
       "      <td>GD</td>\n",
       "      <td>48</td>\n",
       "      <td>CLM</td>\n",
       "      <td>25000.0</td>\n",
       "      <td>420</td>\n",
       "      <td>120</td>\n",
       "      <td>Andre Shivnarine Worrie</td>\n",
       "      <td>2090</td>\n",
       "      <td>8</td>\n",
       "    </tr>\n",
       "    <tr>\n",
       "      <th>1</th>\n",
       "      <td>AQU</td>\n",
       "      <td>2019-01-01</td>\n",
       "      <td>9</td>\n",
       "      <td>6</td>\n",
       "      <td>73</td>\n",
       "      <td>40.672946</td>\n",
       "      <td>-73.827587</td>\n",
       "      <td>600</td>\n",
       "      <td>D</td>\n",
       "      <td>GD</td>\n",
       "      <td>48</td>\n",
       "      <td>CLM</td>\n",
       "      <td>25000.0</td>\n",
       "      <td>420</td>\n",
       "      <td>120</td>\n",
       "      <td>Andre Shivnarine Worrie</td>\n",
       "      <td>2090</td>\n",
       "      <td>8</td>\n",
       "    </tr>\n",
       "    <tr>\n",
       "      <th>2</th>\n",
       "      <td>AQU</td>\n",
       "      <td>2019-01-01</td>\n",
       "      <td>9</td>\n",
       "      <td>6</td>\n",
       "      <td>74</td>\n",
       "      <td>40.672990</td>\n",
       "      <td>-73.827568</td>\n",
       "      <td>600</td>\n",
       "      <td>D</td>\n",
       "      <td>GD</td>\n",
       "      <td>48</td>\n",
       "      <td>CLM</td>\n",
       "      <td>25000.0</td>\n",
       "      <td>420</td>\n",
       "      <td>120</td>\n",
       "      <td>Andre Shivnarine Worrie</td>\n",
       "      <td>2090</td>\n",
       "      <td>8</td>\n",
       "    </tr>\n",
       "    <tr>\n",
       "      <th>3</th>\n",
       "      <td>AQU</td>\n",
       "      <td>2019-01-01</td>\n",
       "      <td>9</td>\n",
       "      <td>6</td>\n",
       "      <td>63</td>\n",
       "      <td>40.672510</td>\n",
       "      <td>-73.827781</td>\n",
       "      <td>600</td>\n",
       "      <td>D</td>\n",
       "      <td>GD</td>\n",
       "      <td>48</td>\n",
       "      <td>CLM</td>\n",
       "      <td>25000.0</td>\n",
       "      <td>420</td>\n",
       "      <td>120</td>\n",
       "      <td>Andre Shivnarine Worrie</td>\n",
       "      <td>2090</td>\n",
       "      <td>8</td>\n",
       "    </tr>\n",
       "    <tr>\n",
       "      <th>4</th>\n",
       "      <td>AQU</td>\n",
       "      <td>2019-01-01</td>\n",
       "      <td>9</td>\n",
       "      <td>6</td>\n",
       "      <td>64</td>\n",
       "      <td>40.672553</td>\n",
       "      <td>-73.827762</td>\n",
       "      <td>600</td>\n",
       "      <td>D</td>\n",
       "      <td>GD</td>\n",
       "      <td>48</td>\n",
       "      <td>CLM</td>\n",
       "      <td>25000.0</td>\n",
       "      <td>420</td>\n",
       "      <td>120</td>\n",
       "      <td>Andre Shivnarine Worrie</td>\n",
       "      <td>2090</td>\n",
       "      <td>8</td>\n",
       "    </tr>\n",
       "  </tbody>\n",
       "</table>\n",
       "</div>"
      ],
      "text/plain": [
       "  track_id   race_date  race_number program_number  trakus_index   latitude  \\\n",
       "0      AQU  2019-01-01            9            6              72  40.672902   \n",
       "1      AQU  2019-01-01            9            6              73  40.672946   \n",
       "2      AQU  2019-01-01            9            6              74  40.672990   \n",
       "3      AQU  2019-01-01            9            6              63  40.672510   \n",
       "4      AQU  2019-01-01            9            6              64  40.672553   \n",
       "\n",
       "   longitude  distance_id course_type track_condition  run_up_distance  \\\n",
       "0 -73.827607          600           D              GD               48   \n",
       "1 -73.827587          600           D              GD               48   \n",
       "2 -73.827568          600           D              GD               48   \n",
       "3 -73.827781          600           D              GD               48   \n",
       "4 -73.827762          600           D              GD               48   \n",
       "\n",
       "  race_type    purse  post_time  wt_carried                   jockey  odds  \\\n",
       "0       CLM  25000.0        420         120  Andre Shivnarine Worrie  2090   \n",
       "1       CLM  25000.0        420         120  Andre Shivnarine Worrie  2090   \n",
       "2       CLM  25000.0        420         120  Andre Shivnarine Worrie  2090   \n",
       "3       CLM  25000.0        420         120  Andre Shivnarine Worrie  2090   \n",
       "4       CLM  25000.0        420         120  Andre Shivnarine Worrie  2090   \n",
       "\n",
       "   position_finish  \n",
       "0                8  \n",
       "1                8  \n",
       "2                8  \n",
       "3                8  \n",
       "4                8  "
      ]
     },
     "execution_count": 31,
     "metadata": {},
     "output_type": "execute_result"
    }
   ],
   "source": [
    "df.head()"
   ]
  },
  {
   "cell_type": "code",
   "execution_count": 32,
   "id": "4a6f88a3",
   "metadata": {},
   "outputs": [],
   "source": [
    "df.jockey = df.jockey.str.lower().str.replace(' ','_')"
   ]
  },
  {
   "cell_type": "code",
   "execution_count": 33,
   "id": "eea03475",
   "metadata": {},
   "outputs": [],
   "source": [
    "df.race_date = pd.to_datetime(df.race_date)"
   ]
  },
  {
   "cell_type": "code",
   "execution_count": 34,
   "id": "1e5030d6",
   "metadata": {},
   "outputs": [
    {
     "name": "stdout",
     "output_type": "stream",
     "text": [
      "<class 'pandas.core.frame.DataFrame'>\n",
      "RangeIndex: 5228430 entries, 0 to 5228429\n",
      "Data columns (total 18 columns):\n",
      " #   Column           Dtype         \n",
      "---  ------           -----         \n",
      " 0   track_id         object        \n",
      " 1   race_date        datetime64[ns]\n",
      " 2   race_number      int64         \n",
      " 3   program_number   object        \n",
      " 4   trakus_index     int64         \n",
      " 5   latitude         float64       \n",
      " 6   longitude        float64       \n",
      " 7   distance_id      int64         \n",
      " 8   course_type      object        \n",
      " 9   track_condition  object        \n",
      " 10  run_up_distance  int64         \n",
      " 11  race_type        object        \n",
      " 12  purse            float64       \n",
      " 13  post_time        int64         \n",
      " 14  wt_carried       int64         \n",
      " 15  jockey           object        \n",
      " 16  odds             int64         \n",
      " 17  position_finish  int64         \n",
      "dtypes: datetime64[ns](1), float64(3), int64(8), object(6)\n",
      "memory usage: 718.0+ MB\n"
     ]
    }
   ],
   "source": [
    "df.info()"
   ]
  },
  {
   "cell_type": "code",
   "execution_count": null,
   "id": "23caa944",
   "metadata": {},
   "outputs": [],
   "source": []
  }
 ],
 "metadata": {
  "kernelspec": {
   "display_name": "Python 3 (ipykernel)",
   "language": "python",
   "name": "python3"
  },
  "language_info": {
   "codemirror_mode": {
    "name": "ipython",
    "version": 3
   },
   "file_extension": ".py",
   "mimetype": "text/x-python",
   "name": "python",
   "nbconvert_exporter": "python",
   "pygments_lexer": "ipython3",
   "version": "3.9.12"
  }
 },
 "nbformat": 4,
 "nbformat_minor": 5
}
